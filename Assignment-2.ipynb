{
 "cells": [
  {
   "cell_type": "markdown",
   "id": "e18ec777",
   "metadata": {},
   "source": [
    "Q1.What are the two values of the Boolean data type? How do you write them?\n",
    "\n",
    "Ans->\n",
    "\n",
    "The two values of the Boolean data type are True and False."
   ]
  },
  {
   "cell_type": "code",
   "execution_count": 1,
   "id": "e71be4a1",
   "metadata": {},
   "outputs": [
    {
     "data": {
      "text/plain": [
       "bool"
      ]
     },
     "execution_count": 1,
     "metadata": {},
     "output_type": "execute_result"
    }
   ],
   "source": [
    "#How do you write them?\n",
    "\n",
    "a = True\n",
    "type(a)\n",
    "\n",
    "b = False\n",
    "type(b)"
   ]
  },
  {
   "cell_type": "markdown",
   "id": "11ba2def",
   "metadata": {},
   "source": [
    "Q2. What are the three different types of Boolean operators?\n",
    "\n",
    "Ans->\n",
    "\n",
    "The three different type of boolean operation are \"and\" , \"or\" and  \"not\".\n",
    "\n",
    "Boolean operator defines the relationships of words or group of words with each other.\n"
   ]
  },
  {
   "cell_type": "code",
   "execution_count": 2,
   "id": "73f10fc5",
   "metadata": {},
   "outputs": [
    {
     "data": {
      "text/plain": [
       "'Q3. Make a list of each Boolean operator truth tables (i.e. every possible combination of Booleanvalues for the operator and what it evaluate ).\\n\\nAns->\\n\\n1. Table for \"OR\" operation\\n\\nA B C\\n0 0 0\\n0 1 1\\n1 0 1\\n1 1 1\\n\\n2. Table for \"AND\" operation\\n\\nA B C\\n0 0 0 \\n0 1 0\\n1 0 0\\n1 1 1\\n\\n3. Table for the \"not\" operation\\n\\nA B C\\n0 0 1\\n1 0 1\\n'"
      ]
     },
     "execution_count": 2,
     "metadata": {},
     "output_type": "execute_result"
    }
   ],
   "source": [
    "\"\"\"Q3. Make a list of each Boolean operator truth tables (i.e. every possible combination of Booleanvalues for the operator and what it evaluate ).\n",
    "\n",
    "Ans->\n",
    "\n",
    "1. Table for \"OR\" operation\n",
    "\n",
    "A B C\n",
    "0 0 0\n",
    "0 1 1\n",
    "1 0 1\n",
    "1 1 1\n",
    "\n",
    "2. Table for \"AND\" operation\n",
    "\n",
    "A B C\n",
    "0 0 0 \n",
    "0 1 0\n",
    "1 0 0\n",
    "1 1 1\n",
    "\n",
    "3. Table for the \"not\" operation\n",
    "\n",
    "A B C\n",
    "0 0 1\n",
    "1 0 1\n",
    "\"\"\""
   ]
  },
  {
   "cell_type": "markdown",
   "id": "ecb1bce0",
   "metadata": {},
   "source": [
    "Q4. What are the values of the following expressions?"
   ]
  },
  {
   "cell_type": "code",
   "execution_count": 3,
   "id": "ad3802f0",
   "metadata": {},
   "outputs": [
    {
     "data": {
      "text/plain": [
       "False"
      ]
     },
     "execution_count": 3,
     "metadata": {},
     "output_type": "execute_result"
    }
   ],
   "source": [
    "1.\n",
    "(5 > 4) and (3 == 5)\n",
    "not(5 >4)"
   ]
  },
  {
   "cell_type": "code",
   "execution_count": 4,
   "id": "668ff075",
   "metadata": {},
   "outputs": [
    {
     "data": {
      "text/plain": [
       "False"
      ]
     },
     "execution_count": 4,
     "metadata": {},
     "output_type": "execute_result"
    }
   ],
   "source": [
    "2.\n",
    "(5 > 4) or (3 == 5)\n",
    "not ((5 > 4) or (3 == 5))"
   ]
  },
  {
   "cell_type": "code",
   "execution_count": 5,
   "id": "e158c782",
   "metadata": {},
   "outputs": [
    {
     "data": {
      "text/plain": [
       "True"
      ]
     },
     "execution_count": 5,
     "metadata": {},
     "output_type": "execute_result"
    }
   ],
   "source": [
    "(True and True) and (True == False)\n",
    "(not False) or (not True)"
   ]
  },
  {
   "cell_type": "markdown",
   "id": "231aa15e",
   "metadata": {},
   "source": [
    "Q5. What are the six comparison operators?\n",
    "\n",
    "Ans->\n",
    "\n",
    "The six comparison operation are:\n",
    "\n",
    "Less than (<)\n",
    "\n",
    "Greater than (>)\n",
    "\n",
    "Less than or equal to (<=)\n",
    "\n",
    "Greater than or equal to (>=)\n",
    "\n",
    "Equal to (==)\n",
    "\n",
    "Assignment (=)\n"
   ]
  },
  {
   "cell_type": "markdown",
   "id": "184a82c1",
   "metadata": {},
   "source": [
    "Q6. How do you tell the difference between the equal to and assignment operators?Describe a\n",
    "condition and when you would use one.\n",
    "Ans->\n",
    "\n",
    "The differnece between the equal to and assignment operation are:\n",
    "\n",
    "1.Assignment:\n",
    "\n",
    "An assignment operator \"=\". It is a relational or comparison operator. \n",
    "It is used for assigning the value to a variable. It is used for comparing two values. It returns 1 if both the values are equal otherwise returns 0.\n",
    "\n",
    "2.Equal :\n",
    "\n",
    "An equal operator is \"==\".Itshow the equal operation between the variable.\n",
    "The equal operator checks whether the two given operands are equal or not. \n",
    "If so, it returns true. Otherwise it returns false."
   ]
  },
  {
   "cell_type": "code",
   "execution_count": 6,
   "id": "f1b02d5e",
   "metadata": {},
   "outputs": [
    {
     "name": "stdout",
     "output_type": "stream",
     "text": [
      "ham\n",
      "spam\n",
      "spam\n"
     ]
    }
   ],
   "source": [
    "#Q7. Identify the three blocks in this code:\n",
    "\n",
    "spam = 0\n",
    "if spam ==10:\n",
    "    print(\"eggs\")\n",
    "if spam>5:\n",
    "    print(\"bacon\")\n",
    "else:\n",
    "    print(\"ham\")\n",
    "    print(\"spam\")\n",
    "    print(\"spam\")"
   ]
  },
  {
   "cell_type": "code",
   "execution_count": 7,
   "id": "680631a8",
   "metadata": {},
   "outputs": [
    {
     "name": "stdout",
     "output_type": "stream",
     "text": [
      "Greeting!\n"
     ]
    }
   ],
   "source": [
    "#8. Write code that prints Hello if 1 is stored in spam, prints Howdy if 2 is stored in spam, and prints Greetings! if anything else is stored in spam.\n",
    "\n",
    "spam = 0\n",
    "while(spam<5):\n",
    "    if spam ==1:\n",
    "        print(\"Hello\")\n",
    "    if spam==2:\n",
    "        print(\"Howdy\")\n",
    "    else:\n",
    "        print(\"Greeting!\")\n",
    "        break"
   ]
  },
  {
   "cell_type": "markdown",
   "id": "953e57f0",
   "metadata": {},
   "source": [
    "Q9.If your programme is stuck in an endless loop, what keys you’ll press?\n",
    "\n",
    "Ans->\n",
    "\n",
    "In the scenario if we stuck in the loop we should have to use break key to stop the loop and come out of the loop.\n",
    "\n"
   ]
  },
  {
   "cell_type": "markdown",
   "id": "42cdac32",
   "metadata": {},
   "source": [
    "Q10. How can you tell the difference between break and continue?\n",
    "\n",
    "Ans->\n",
    "\n",
    "The difference between the break and continue are:\n",
    "\n",
    "1.break:\n",
    "\n",
    "In the break it terminate the rest of the iterating loop. \n",
    "\n",
    "2.continue statement:\n",
    "\n",
    "This statement skips the rest of the loop statement and starts the next iteration of the loop to take place\n"
   ]
  },
  {
   "cell_type": "markdown",
   "id": "d4cef0f5",
   "metadata": {},
   "source": [
    "Q11. In a for loop, what is the difference between range(10), range(0, 10), and range(0, 10, 1)?\n",
    "\n",
    "\n",
    "Ans->\n",
    "In this for loop ,their are no differnce in range(10) it has initial value print the value , in range(0,10)\n",
    "it show the range from initial value(0) to final value(10) and in range(0,10,1) in has three argunments inital value, final value and increment value.\n",
    "But in overall it print the same value.\n"
   ]
  },
  {
   "cell_type": "code",
   "execution_count": 8,
   "id": "3b10f933",
   "metadata": {},
   "outputs": [
    {
     "name": "stdout",
     "output_type": "stream",
     "text": [
      "0\n",
      "1\n",
      "2\n",
      "3\n",
      "4\n",
      "5\n",
      "6\n",
      "7\n",
      "8\n",
      "9\n"
     ]
    }
   ],
   "source": [
    "for i in range(10):\n",
    "    print(i)"
   ]
  },
  {
   "cell_type": "code",
   "execution_count": 9,
   "id": "9aedcbcd",
   "metadata": {},
   "outputs": [
    {
     "name": "stdout",
     "output_type": "stream",
     "text": [
      "0\n",
      "1\n",
      "2\n",
      "3\n",
      "4\n",
      "5\n",
      "6\n",
      "7\n",
      "8\n",
      "9\n"
     ]
    }
   ],
   "source": [
    "for i in range(0,10):\n",
    "    print(i)"
   ]
  },
  {
   "cell_type": "code",
   "execution_count": 10,
   "id": "6f3eb78b",
   "metadata": {},
   "outputs": [
    {
     "name": "stdout",
     "output_type": "stream",
     "text": [
      "0\n",
      "1\n",
      "2\n",
      "3\n",
      "4\n",
      "5\n",
      "6\n",
      "7\n",
      "8\n",
      "9\n"
     ]
    }
   ],
   "source": [
    "for i in range(0,10,1):\n",
    "    print(i)"
   ]
  },
  {
   "cell_type": "markdown",
   "id": "8b51a16c",
   "metadata": {},
   "source": [
    "Q12. Write a short program that prints the numbers 1 to 10 using a for loop. Then write an equivalentprogram that prints the numbers 1 to 10 using a while loop."
   ]
  },
  {
   "cell_type": "code",
   "execution_count": 11,
   "id": "a469f142",
   "metadata": {},
   "outputs": [
    {
     "name": "stdout",
     "output_type": "stream",
     "text": [
      "1\n",
      "2\n",
      "3\n",
      "4\n",
      "5\n",
      "6\n",
      "7\n",
      "8\n",
      "9\n",
      "10\n"
     ]
    }
   ],
   "source": [
    "#Print the value using for loop\n",
    "\n",
    "for i in range(1,11):\n",
    "    print(i)"
   ]
  },
  {
   "cell_type": "code",
   "execution_count": 12,
   "id": "8d892204",
   "metadata": {},
   "outputs": [
    {
     "name": "stdout",
     "output_type": "stream",
     "text": [
      "1\n",
      "2\n",
      "3\n",
      "4\n",
      "5\n",
      "6\n",
      "7\n",
      "8\n",
      "9\n",
      "10\n"
     ]
    }
   ],
   "source": [
    "#Print the value using while loop\n",
    "\n",
    "i=1\n",
    "while i<=10:\n",
    "    print(i)\n",
    "    i = i+1"
   ]
  },
  {
   "cell_type": "markdown",
   "id": "c9c8d1a9",
   "metadata": {},
   "source": [
    "13. If you had a function named bacon() inside a module named spam, how would you call it after\n",
    "importing spam?\n",
    "\n",
    "import spam\n",
    "\n",
    "a = spam.bacon()"
   ]
  },
  {
   "cell_type": "code",
   "execution_count": null,
   "id": "94cf453a",
   "metadata": {},
   "outputs": [],
   "source": []
  },
  {
   "cell_type": "code",
   "execution_count": null,
   "id": "77fcb563",
   "metadata": {},
   "outputs": [],
   "source": []
  }
 ],
 "metadata": {
  "kernelspec": {
   "display_name": "Python 3 (ipykernel)",
   "language": "python",
   "name": "python3"
  },
  "language_info": {
   "codemirror_mode": {
    "name": "ipython",
    "version": 3
   },
   "file_extension": ".py",
   "mimetype": "text/x-python",
   "name": "python",
   "nbconvert_exporter": "python",
   "pygments_lexer": "ipython3",
   "version": "3.9.12"
  }
 },
 "nbformat": 4,
 "nbformat_minor": 5
}
